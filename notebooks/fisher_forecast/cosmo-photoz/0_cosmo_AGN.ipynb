{
 "cells": [
  {
   "cell_type": "code",
   "execution_count": 27,
   "metadata": {},
   "outputs": [
    {
     "name": "stdout",
     "output_type": "stream",
     "text": [
      "set palette to mallsoft, shuffle=False\n",
      "set matplotlib rc\n"
     ]
    }
   ],
   "source": [
    "from forecast.core import DataGenerator, make_photoz_bin_edges, compare_fisher_matrices, cl_get_idx_from_ij, ccl\n",
    "from lumin_functions.core import def_agn_xlf, def_clusters_xlf\n",
    "import matplotlib\n",
    "from general_definitions import np, plt, set_mpl\n",
    "set_mpl()\n",
    "%matplotlib inline\n"
   ]
  },
  {
   "cell_type": "code",
   "execution_count": 28,
   "metadata": {},
   "outputs": [],
   "source": [
    "fiducial_params = {'Omega_c': 0.25, 'Omega_b': 0.05,\n",
    "                   'h': 0.7, 'sigma8': 0.8, 'n_s': 0.96,\n",
    "                   'transfer_function': 'boltzmann_camb',\n",
    "                   'baryons_power_spectrum': 'nobaryons',\n",
    "                   'matter_power_spectrum': 'linear'}\n",
    "\n",
    "fsky = 0.658/2\n",
    "powspec_pars_dict_agn = {\n",
    "    'slim': 1e-14,\n",
    "    'l_min': 10,\n",
    "    'l_max': 500,\n",
    "    'log_bins': 41,\n",
    "    'fsky': fsky,\n",
    "    'has_rsd': True,\n",
    "    'use_weighed_bias': False,\n",
    "    'density_multiplier': 1.3,\n",
    "    'camb_llimber': 110,\n",
    "    'xlf': def_agn_xlf,\n",
    "    'use_camb': True,\n",
    "    'delta_i': 3,\n",
    "    'remove_ignored_cells': True,\n",
    "}\n",
    "\n",
    "\n",
    "\n",
    "zmin_agn = 0.5\n",
    "zmax_agn = 2.5\n",
    "sigma0_agn = 0.2\n",
    "f_fail_agn = 0.02\n",
    "bins_agn = make_photoz_bin_edges(zmin_agn, zmax_agn, k=1, sigma_0=sigma0_agn)\n",
    "\n",
    "powspec_pars_dict_agn['sigma_0'] = sigma0_agn\n",
    "powspec_pars_dict_agn['f_fail'] = f_fail_agn"
   ]
  },
  {
   "cell_type": "code",
   "execution_count": 29,
   "metadata": {},
   "outputs": [
    {
     "data": {
      "text/plain": [
       "array([0.5   , 0.8   , 1.16  , 1.592 , 2.1104, 2.7325])"
      ]
     },
     "execution_count": 29,
     "metadata": {},
     "output_type": "execute_result"
    }
   ],
   "source": [
    "bins_agn"
   ]
  },
  {
   "cell_type": "code",
   "execution_count": 30,
   "metadata": {},
   "outputs": [
    {
     "name": "stderr",
     "output_type": "stream",
     "text": [
      "dNdz calculating: 100%|██████████| 751/751 [00:03<00:00, 247.71it/s]\n"
     ]
    },
    {
     "name": "stdout",
     "output_type": "stream",
     "text": [
      "Total AGN sources: 918721 at fsky=0.329[13572 deg^2]\n",
      "Photo-z parameters: self.sigma_0=0.2, self.f_fail=0.02\n",
      "calculating CAMB...\n"
     ]
    },
    {
     "name": "stderr",
     "output_type": "stream",
     "text": [
      "calc Covariance: 100%|██████████| 15/15 [00:00<00:00, 1441.21it/s]"
     ]
    },
    {
     "name": "stdout",
     "output_type": "stream",
     "text": [
      "CAMB calculation time: 2.5309183597564697\n"
     ]
    },
    {
     "name": "stderr",
     "output_type": "stream",
     "text": [
      "\n"
     ]
    }
   ],
   "source": [
    "datagen_AGN = DataGenerator(\n",
    "                                 fiducial_params=fiducial_params, set_name = 'AGN')\n",
    "\n",
    "datagen_AGN.invoke(**powspec_pars_dict_agn, bin_left_edges=bins_agn, plot_dndz=False, plot_cell=False);\n",
    "datagen_AGN.invert_cov();"
   ]
  },
  {
   "cell_type": "code",
   "execution_count": 31,
   "metadata": {},
   "outputs": [
    {
     "name": "stdout",
     "output_type": "stream",
     "text": [
      "Start Jacobian calculation (cosmological part): jac_step=0.001, jac_order=2\n",
      "Finished Jacobian calculation (cosmological part) in 25.22 seconds\n"
     ]
    }
   ],
   "source": [
    "F = datagen_AGN.get_Fisher_matrix(jac_step = 0.001, jac_order = 2)[0]"
   ]
  },
  {
   "cell_type": "code",
   "execution_count": 32,
   "metadata": {},
   "outputs": [
    {
     "data": {
      "text/plain": [
       "True"
      ]
     },
     "execution_count": 32,
     "metadata": {},
     "output_type": "execute_result"
    }
   ],
   "source": [
    "F.check_derivatives()"
   ]
  },
  {
   "cell_type": "code",
   "execution_count": 34,
   "metadata": {},
   "outputs": [
    {
     "data": {
      "text/plain": [
       "array([[0.5, 0.5, 0.5, 0.5, 0.5],\n",
       "       [0.5, 0.5, 0.5, 0.5, 0.5],\n",
       "       [0.5, 0.5, 0.5, 0.5, 0.5],\n",
       "       [0.5, 0.5, 0.5, 0.5, 0.5],\n",
       "       [0.5, 0.5, 0.5, 0.5, 0.5]])"
      ]
     },
     "execution_count": 34,
     "metadata": {},
     "output_type": "execute_result"
    }
   ],
   "source": [
    "F.F/F_test"
   ]
  },
  {
   "cell_type": "code",
   "execution_count": 25,
   "metadata": {},
   "outputs": [
    {
     "data": {
      "text/plain": [
       "7.823361856167921"
      ]
     },
     "execution_count": 25,
     "metadata": {},
     "output_type": "execute_result"
    }
   ],
   "source": [
    "\n",
    "F_test = F.F\n",
    "cov_test = np.linalg.inv(F_test)\n",
    "np.log10(np.pi/np.sqrt(np.linalg.det(cov_test)))\n",
    "#7.823"
   ]
  },
  {
   "cell_type": "code",
   "execution_count": 26,
   "metadata": {},
   "outputs": [
    {
     "data": {
      "text/plain": [
       "array([[ 31121.89374663, -34958.78529828,  11845.17867605,\n",
       "         14029.38118693, -21396.34451013],\n",
       "       [-34958.78529524,  42607.01156372, -13593.58188946,\n",
       "        -15924.87519302,  26573.62669695],\n",
       "       [ 11845.1786772 , -13593.58189135,   4581.67051202,\n",
       "          5450.86767238,  -8936.97780045],\n",
       "       [ 14029.38118651, -15924.8751941 ,   5450.86767174,\n",
       "          6564.95974183, -11396.37849074],\n",
       "       [-21396.34450147,  26573.6266956 ,  -8936.97779667,\n",
       "        -11396.37848637,  31618.07141437]])"
      ]
     },
     "execution_count": 26,
     "metadata": {},
     "output_type": "execute_result"
    }
   ],
   "source": [
    "F_test"
   ]
  },
  {
   "cell_type": "code",
   "execution_count": 66,
   "metadata": {},
   "outputs": [],
   "source": [
    "# F_calc = np.load('./data/AGN_0.2_0.01.npz')['F']\n",
    "# F.F/F_calc"
   ]
  }
 ],
 "metadata": {
  "interpreter": {
   "hash": "32134566cb663eb475d3bd44ecaa54b074876da4b1743d23bf9dc1cd8c23738e"
  },
  "kernelspec": {
   "display_name": "Python 3.8.10 64-bit ('venv_science': conda)",
   "name": "python3"
  },
  "language_info": {
   "codemirror_mode": {
    "name": "ipython",
    "version": 3
   },
   "file_extension": ".py",
   "mimetype": "text/x-python",
   "name": "python",
   "nbconvert_exporter": "python",
   "pygments_lexer": "ipython3",
   "version": "3.8.10"
  },
  "orig_nbformat": 4
 },
 "nbformat": 4,
 "nbformat_minor": 2
}
